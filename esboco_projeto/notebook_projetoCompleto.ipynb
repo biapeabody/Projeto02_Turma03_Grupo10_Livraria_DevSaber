{
 "cells": [
  {
   "cell_type": "markdown",
   "metadata": {
    "application/vnd.databricks.v1+cell": {
     "cellMetadata": {},
     "inputWidgets": {},
     "nuid": "b66c2dd6-70e4-4c95-a30f-ea619aa0f295",
     "showTitle": false,
     "tableResultSettingsMap": {},
     "title": ""
    }
   },
   "source": [
    "# [Mini Projeto] \n",
    "# Pipeline de Dados e Análise com SQL no BigQuery"
   ]
  },
  {
   "cell_type": "markdown",
   "metadata": {
    "application/vnd.databricks.v1+cell": {
     "cellMetadata": {},
     "inputWidgets": {},
     "nuid": "2be96239-967c-444f-a539-9a2ec6d2080e",
     "showTitle": false,
     "tableResultSettingsMap": {},
     "title": ""
    }
   },
   "source": [
    "## **1. Introdução**\n",
    "\n",
    "\n",
    "**A Missão da Livraria DevSaber**\n",
    "\n",
    "Contexto\n",
    "\n",
    "O cliente é a ‘Livraria DevSaber’, uma nova loja online que fez suas primeiras vendas e, até agora, anotou tudo em uma planilha. Isso é um começo, mas para crescer, eles precisam de *insights*. Nossa missão é transformar essa planilha em um *mini data warehouse* inteligente no Google BigQuery. Vamos construir todo o pipeline de dados: desde criar a estrutura, carregar os dados, até extrair as respostas que ajudarão a livraria a entender seus negócios.”\n",
    "\n",
    "\n"
   ]
  },
  {
   "cell_type": "markdown",
   "metadata": {
    "application/vnd.databricks.v1+cell": {
     "cellMetadata": {},
     "inputWidgets": {},
     "nuid": "8480dab0-60bd-4618-91d9-b25bbc9a5ee2",
     "showTitle": false,
     "tableResultSettingsMap": {},
     "title": ""
    }
   },
   "source": [
    "**Perguntas para a turma:**\n",
    "\n",
    "- _Por que uma planilha não é ideal para uma empresa que quer analisar suas vendas a fundo?_\n",
    "\n",
    "       resposta:\n",
    "            Planilhas sao limitadas quando se tratam de analise do dados. Sua limitação ao conectar e organizar dados com varias tabelas dificulta a automação de consultas, a integração com ferramentas de analise de dados e a outros sistemas se tornam ineficazes. Um ponto de atenção é a segurança das planilhas, a qualquer momento podem sofrer alterações erroenas e inesperadas, aumentando o indice de erro e ineficiencia dos dados.\n",
    "\n",
    "\n",
    "- _Que tipo de perguntas vocês acham que o dono da livraria gostaria de responder com esses dados?_\n",
    "\n",
    "      resposta:\n",
    "            1. Rankear vendas por categorias em cada trimestre do ultimo exercicio para os resultados em cada estado;            \n",
    "\n",
    "            2. Identificar periodo de menor e maior numero de vendas por estado em cada trimestre:\n",
    "\n",
    "            3. Título de maior interesse pelos clientes no ultimo ano;\n",
    "\n",
    "            4. Quantidade de vendas semanal. (view)\n"
   ]
  },
  {
   "cell_type": "markdown",
   "metadata": {
    "application/vnd.databricks.v1+cell": {
     "cellMetadata": {},
     "inputWidgets": {},
     "nuid": "32db971c-e95c-4cc5-a656-efc5eca15aea",
     "showTitle": false,
     "tableResultSettingsMap": {},
     "title": ""
    }
   },
   "source": [
    "## 2. Estruturando o Armazenamento\n",
    "`CREATE` `TABLE` no BigQuery"
   ]
  },
  {
   "cell_type": "markdown",
   "metadata": {
    "application/vnd.databricks.v1+cell": {
     "cellMetadata": {},
     "inputWidgets": {},
     "nuid": "3c26eee3-213c-4ea6-8bc7-908adec7e5ec",
     "showTitle": false,
     "tableResultSettingsMap": {},
     "title": ""
    }
   },
   "source": [
    "O primeiro passo em qualquer projeto de dados é construir a ‘casa’ onde os dados vão morar. No BigQuery, fazemos isso com o `CREATE` `TABLE`. Mas, diferente dos bancos de dados tradicionais, o BigQuery tem suas próprias regras de arquitetura. Ele é construído para ser incrivelmente rápido com volumes de dados gigantescos, e isso muda um pouco a forma como definimos nossas tabelas.”\n",
    "\n",
    "**Exemplo:** O código para criar a tabela Clientes\n",
    "\n",
    " No BigQuery, usamos tipos de dados como STRING e INT64\n",
    "        \n",
    "       \n",
    "\n",
    "          CREATE OR REPLACE TABLE `seu-projeto.seu_dataset.Clientes` \n",
    "          ( ID_Cliente INT64, \n",
    "          Nome_Cliente STRING, \n",
    "          Email_Cliente STRING, \n",
    "          Estado_Cliente STRING\n",
    "          );"
   ]
  },
  {
   "cell_type": "markdown",
   "metadata": {
    "application/vnd.databricks.v1+cell": {
     "cellMetadata": {},
     "inputWidgets": {},
     "nuid": "2dc3df60-e318-4360-ad80-1e0af8a11d69",
     "showTitle": false,
     "tableResultSettingsMap": {},
     "title": ""
    }
   },
   "source": [
    "**Perguntas para a turma:**\n",
    "\n",
    "- _Com base nos dados brutos, quais outras duas tabelas precisamos criar? Que colunas e tipos de dados elas teriam?_\n",
    "\n",
    "- _Se o BigQuery não tem chaves estrangeiras, como garantimos que um `ID_Cliente` na tabela de vendas realmente existe na tabela de clientes? (Resposta: A responsabilidade é nossa, na hora de construir a consulta com o `JOIN`)._"
   ]
  },
  {
   "cell_type": "markdown",
   "metadata": {
    "application/vnd.databricks.v1+cell": {
     "cellMetadata": {},
     "inputWidgets": {},
     "nuid": "70d49963-29fd-40f1-8550-b24f90b24896",
     "showTitle": false,
     "tableResultSettingsMap": {},
     "title": ""
    }
   },
   "source": [
    "## 3. Ingerir os Dados\n",
    "\n",
    "`INSERT INTO`\n",
    "\n",
    "Inserir os dados brutos fornecidos nas tabelas.\n",
    "\n",
    "Carregar os dados da ‘planilha’  da livraria para dentro do BigQuery. Para o volume de dados do nosso projeto, o comando `INSERT INTO` é perfeito. Ele nos permite inserir os registros linha a linha, de forma clara e controlada.”"
   ]
  },
  {
   "cell_type": "markdown",
   "metadata": {
    "application/vnd.databricks.v1+cell": {
     "cellMetadata": {},
     "inputWidgets": {},
     "nuid": "002a2d13-645f-4146-a9d6-07bdd11eea93",
     "showTitle": false,
     "tableResultSettingsMap": {},
     "title": ""
    }
   },
   "source": [
    "- Por que é uma boa prática inserir os clientes e produtos em suas próprias tabelas antes de inserir os dados de vendas?\n",
    "\n",
    "      resposta: \n",
    "      A tabela Clientes e Produtos sao tabelas que contem as chamadas _primary keys_ que podem ser os pontos de partida para as conexões de relacionamento entre as demais tabelas, principalmente para a tabela de vendas, onde contem as _foreign keys_, onde a chave de identificação de vendas carrega tbm as chaves de produtos e clientes. Sendo assim, a ordem de criação da tabela deve seguir uma ordem logica para que haja nexo na tabela de vendas.\n",
    "\n",
    "\n",
    "- Em um cenário com milhões de vendas por dia, o `INSERT INTO` seria a melhor abordagem?\n",
    "\n",
    "      resposta:\n",
    "      Pode ser que nao seja a melhor opção. Para o uso de grandes volumes de dados, é indicado que seja realizada a conexão com servidores de dados."
   ]
  },
  {
   "cell_type": "markdown",
   "metadata": {
    "application/vnd.databricks.v1+cell": {
     "cellMetadata": {},
     "inputWidgets": {},
     "nuid": "76d0dee0-a1fa-4362-9dbd-4234371952ca",
     "showTitle": false,
     "tableResultSettingsMap": {},
     "title": ""
    }
   },
   "source": [
    "## 4. Análise de Dados\n",
    "Fazendo Perguntas com `SELECT` e `JOIN`"
   ]
  },
  {
   "cell_type": "markdown",
   "metadata": {
    "application/vnd.databricks.v1+cell": {
     "cellMetadata": {},
     "inputWidgets": {},
     "nuid": "1c8a3c57-cac5-4185-a4fb-34b21ff9c4bf",
     "showTitle": false,
     "tableResultSettingsMap": {},
     "title": ""
    }
   },
   "source": [
    "Com os dados estruturados, agora podemos fazer perguntas de negócio e obter respostas imediatas. Usaremos tudo o que aprendemos: `SELECT` para escolher o que queremos ver, WHERE para filtrar, `JOIN` para conectar nossas tabelas e `GROUP BY` para agregar e resumir informações."
   ]
  },
  {
   "cell_type": "markdown",
   "metadata": {
    "application/vnd.databricks.v1+cell": {
     "cellMetadata": {},
     "inputWidgets": {},
     "nuid": "c2b6c533-5156-428b-a48f-1a2fd3c7c9d7",
     "showTitle": false,
     "tableResultSettingsMap": {},
     "title": ""
    }
   },
   "source": [
    "A \"Livraria DevSaber\", uma loja online, registrou suas primeiras vendas e precisa da sua ajuda para estruturar e analisar esses dados. Sua missão é criar um pequeno data warehouse no Google BigQuery para permitir que a empresa responda a perguntas de negócio importantes sobre seus clientes e produtos."
   ]
  },
  {
   "cell_type": "code",
   "execution_count": 0,
   "metadata": {
    "application/vnd.databricks.v1+cell": {
     "cellMetadata": {},
     "inputWidgets": {},
     "nuid": "2202892d-6863-4607-99c6-9c5f5ff68305",
     "showTitle": false,
     "tableResultSettingsMap": {},
     "title": ""
    }
   },
   "outputs": [],
   "source": [
    "SELECT\n",
    "    C.Nome_Cliente,   \n",
    "    P.Nome_Produto,\n",
    "    V.Data_Venda\n",
    "FROM `t1engenhariadados.Grupo_10.Vendas2` AS V    -- Seleciona a tabela procipal \n",
    "JOIN `t1engenhariadados.Grupo_10.Clientes2` AS C  -- junta as vendas ao cadastro do cliente\n",
    "  ON V.ID_Cliente = C.ID_Cliente\n",
    "JOIN `t1engenhariadados.Grupo_10.Produtos2` AS P -- junta as vendas ao cadastro do produto\n",
    "  ON V.ID_Produto = P.ID_Produto\n",
    "ORDER BY V.Data_Venda;\n",
    "\n",
    "\n",
    "-- o relacionamento entre as tabelas foi feito. Agora as linhas com chaves primarias correspondentes em cada tabela estao correlacionadas."
   ]
  },
  {
   "cell_type": "markdown",
   "metadata": {
    "application/vnd.databricks.v1+cell": {
     "cellMetadata": {},
     "inputWidgets": {},
     "nuid": "953a238d-f10f-48c4-a2ff-91cf7de907d6",
     "showTitle": false,
     "tableResultSettingsMap": {},
     "title": ""
    }
   },
   "source": [
    "## 5. Automação e Reuso\n",
    "**Criando uma `VIEW`**"
   ]
  },
  {
   "cell_type": "markdown",
   "metadata": {
    "application/vnd.databricks.v1+cell": {
     "cellMetadata": {},
     "inputWidgets": {},
     "nuid": "5f238957-d1c4-434b-8e4d-9ac1db44cb76",
     "showTitle": false,
     "tableResultSettingsMap": {},
     "title": ""
    }
   },
   "source": [
    "\n",
    "Uma `VIEW` no BigQuery é como salvar uma consulta complexa com um nome simples. Ela se torna uma ‘tabela virtual’ que podemos consultar de forma muito mais fácil."
   ]
  },
  {
   "cell_type": "markdown",
   "metadata": {
    "application/vnd.databricks.v1+cell": {
     "cellMetadata": {},
     "inputWidgets": {},
     "nuid": "0f5d457d-2282-4a5c-a93b-f4ca6004bb23",
     "showTitle": false,
     "tableResultSettingsMap": {},
     "title": ""
    }
   },
   "source": [
    "- Agora, em vez de escrever toda a consulta de `JOIN` novamente, podemos simplesmente fazer: `SELECT * FROM v_relatorio_vendas_detalhado WHERE Nome_Cliente = 'Ana Silva';`\n",
    "- A `VIEW` simplifica o acesso aos dados e garante que todos na empresa usem a mesma lógica de cálculo.\n",
    "\n",
    "**Perguntas para a turma:**\n",
    "\n",
    "- _Qual é a principal vantagem de usar uma `VIEW` em vez de simplesmente salvar o código em um arquivo de texto?_\n",
    "\n",
    "      resposta: Uma view economiza nos dados processados. \n",
    "\n",
    "\n",
    "- Se o preço de um produto mudar na tabela `Produtos`, o `Valor_Total` na `VIEW` será atualizado automaticamente na próxima vez que a consultarmos?\n",
    "\n",
    "      resposta: Sim. Os dados de uma view nao serao armazenados. Apenas a consulta. Entao, sempre que for execultada a consulta (view) salva, os dados serao carregados conforme atualização no banco de dados."
   ]
  },
  {
   "cell_type": "markdown",
   "metadata": {
    "application/vnd.databricks.v1+cell": {
     "cellMetadata": {},
     "inputWidgets": {},
     "nuid": "7f2c5337-2dfa-4f8d-9829-28fce553fded",
     "showTitle": false,
     "tableResultSettingsMap": {},
     "title": ""
    }
   },
   "source": [
    "## 6. Exercícios\n",
    "\n",
    "**Missão do projeto: Criar um conjunto de scripts SQL.**"
   ]
  },
  {
   "cell_type": "markdown",
   "metadata": {
    "application/vnd.databricks.v1+cell": {
     "cellMetadata": {},
     "inputWidgets": {},
     "nuid": "8a36c191-a4e6-46fd-830e-66077f909015",
     "showTitle": false,
     "tableResultSettingsMap": {},
     "title": ""
    }
   },
   "source": [
    "### 1. Definir o Schema\n",
    "Criar as tabelas Clientes, Produtos e Vendas."
   ]
  },
  {
   "cell_type": "markdown",
   "metadata": {
    "application/vnd.databricks.v1+cell": {
     "cellMetadata": {},
     "inputWidgets": {},
     "nuid": "32e08af5-8f2e-4821-941f-fb0d85ed7bf6",
     "showTitle": false,
     "tableResultSettingsMap": {},
     "title": ""
    }
   },
   "source": [
    "#### Criar as tabelas Clientes, Produtos e Vendas."
   ]
  },
  {
   "cell_type": "code",
   "execution_count": 0,
   "metadata": {
    "application/vnd.databricks.v1+cell": {
     "cellMetadata": {},
     "inputWidgets": {},
     "nuid": "680a763c-3417-4fbc-bbd2-f56d5dfec489",
     "showTitle": false,
     "tableResultSettingsMap": {},
     "title": ""
    }
   },
   "outputs": [],
   "source": [
    "%sql\n",
    "\n",
    "CREATE OR REPLACE TABLE `t1engenhariadados.Grupo_10.Clientes2` (\n",
    "    ID_Cliente INT64,\n",
    "    Nome_Cliente STRING,\n",
    "    Email_Cliente STRING,\n",
    "    Idade_Cliente INT64,\n",
    "    Estado_Cliente STRING,\n",
    "    \n",
    ");\n",
    "\n",
    "-- Tabela de Produtos\n",
    "-- Armazena informações únicas de cada produto.\n",
    "CREATE OR REPLACE TABLE `t1engenhariadados.Grupo_10.Produtos2` (\n",
    "    ID_Produto INT64,\n",
    "    Nome_Produto STRING,\n",
    "    Categoria_Produto STRING,\n",
    "    Preco_Produto NUMERIC\n",
    ");\n",
    "\n",
    "-- Tabela de Vendas\n",
    "-- Tabela de fatos que relaciona clientes e produtos, registrando cada transação.\n",
    "-- As relações com Clientes e Produtos são lógicas, mantidas pelos campos de ID.\n",
    "CREATE OR REPLACE TABLE `t1engenhariadados.Grupo_10.Vendas2` (\n",
    "    ID_Venda INT64,\n",
    "    ID_Cliente INT64,\n",
    "    ID_Produto INT64,\n",
    "    Data_Venda DATE,\n",
    "    Quantidade INT64\n",
    ");\n",
    "\n",
    "\n"
   ]
  },
  {
   "cell_type": "markdown",
   "metadata": {
    "application/vnd.databricks.v1+cell": {
     "cellMetadata": {},
     "inputWidgets": {},
     "nuid": "01b8557d-c1b3-4aad-88e2-f9e11e45f267",
     "showTitle": false,
     "tableResultSettingsMap": {},
     "title": ""
    }
   },
   "source": []
  },
  {
   "cell_type": "markdown",
   "metadata": {
    "application/vnd.databricks.v1+cell": {
     "cellMetadata": {},
     "inputWidgets": {},
     "nuid": "4ba58e4d-4043-4459-a367-1cf30a9fb795",
     "showTitle": false,
     "tableResultSettingsMap": {},
     "title": ""
    }
   },
   "source": [
    "### 2. Ingerir os Dados\n",
    " Inserir os dados brutos fornecidos nas tabelas."
   ]
  },
  {
   "cell_type": "markdown",
   "metadata": {
    "application/vnd.databricks.v1+cell": {
     "cellMetadata": {},
     "inputWidgets": {},
     "nuid": "f7ea9749-76d9-4972-b742-a1868d92ef1a",
     "showTitle": false,
     "tableResultSettingsMap": {},
     "title": ""
    }
   },
   "source": [
    "##### Inserir dados na tabela clientes  (sem duplicatas)"
   ]
  },
  {
   "cell_type": "code",
   "execution_count": 0,
   "metadata": {
    "application/vnd.databricks.v1+cell": {
     "cellMetadata": {},
     "collapsed": true,
     "inputWidgets": {},
     "nuid": "d35abf98-2546-4870-98cb-92db46fbbb15",
     "showTitle": false,
     "tableResultSettingsMap": {},
     "title": ""
    }
   },
   "outputs": [],
   "source": [
    "\n",
    "INSERT INTO `t1engenhariadados.Grupo_10.Clientes2` \n",
    "  (ID_Cliente, Nome_Cliente, Email_Cliente, Idade_Cliente,Estado_Cliente)\n",
    "VALUES \n",
    "(1,'AnaSophiaTeixeira','ana.sophia.teixeira@exemplo.com',28,'RJ'),\n",
    "\n",
    "(2,'NinaAraújo','nina.araújo@exemplo.com',42,'AC'),\n",
    "\n",
    "(3,'EnzoCardoso','enzo.cardoso@exemplo.com',48,'RR'),\n",
    "\n",
    "(4,'LaradaPaz','lara.da.paz@exemplo.com',37,'RJ'),\n",
    "\n",
    "(5,'JúliaMoura','júlia.moura@exemplo.com',43,'RR'),\n",
    "\n",
    "(6,'StellaDias','stella.dias@exemplo.com',38,'RJ'),\n",
    "\n",
    "(7,'LuigiMoreira','luigi.moreira@exemplo.com',49,'SP'),\n",
    "\n",
    "(8,'NathanNunes','nathan.nunes@exemplo.com',47,'SP'),\n",
    "\n",
    "(9,'VitorHugoPires','vitor.hugo.pires@exemplo.com',58,'SP'),\n",
    "\n",
    "(10,'JoãoLucasAlves','joão.lucas.alves@exemplo.com',46,'RR'),\n",
    "\n",
    "(11,'BrunoGonçalves','bruno.gonçalves@exemplo.com',42,'RJ'),\n",
    "\n",
    "(12,'PauloCavalcanti','paulo.cavalcanti@exemplo.com',22,'CE'),\n",
    "\n",
    "(13,'AnaJúliadaCruz','ana.júlia.da.cruz@exemplo.com',51,'AM'),\n",
    "\n",
    "(14,'GustavodaRocha','gustavo.da.rocha@exemplo.com',50,'ES'),\n",
    "\n",
    "(15,'VicenteMonteiro','vicente.monteiro@exemplo.com',51,'AM'),\n",
    "\n",
    "(16,'IsabellaCardoso','isabella.cardoso@exemplo.com',42,'ES'),\n",
    "\n",
    "(17,'FernandoCostela','fernando.costela@exemplo.com',43,'MA'),\n",
    "\n",
    "(18,'MelissaCampos','melissa.campos@exemplo.com',44,'AM'),\n",
    "\n",
    "(19,'LaísFogaça','laís.fogaça@exemplo.com',47,'AM'),\n",
    "\n",
    "(20,'MiguelCastro','miguel.castro@exemplo.com',28,'RJ'),\n",
    "\n",
    "(21,'PedroLucasFarias','pedro.lucas.farias@exemplo.com',46,'AM'),\n",
    "\n",
    "(22,'EduardoBarbosa','eduardo.barbosa@exemplo.com',48,'ES'),\n",
    "\n",
    "(23,'GabriellyTeixeira','gabrielly.teixeira@exemplo.com',42,'RR'),\n",
    "\n",
    "(24,'GabrielMoraes','gabriel.moraes@exemplo.com',55,'AL'),\n",
    "\n",
    "(25,'MariaJuliaCampos','maria.julia.campos@exemplo.com',30,'SP'),\n",
    "\n",
    "(26,'LuizOtávioAraújo','luiz.otávio.araújo@exemplo.com',52,'MG'),\n",
    "\n",
    "(27,'AlanaSilveira','alana.silveira@exemplo.com',38,'AM'),\n",
    "\n",
    "(28,'AnaLuizaAraújo','ana.luiza.araújo@exemplo.com',51,'MG'),\n",
    "\n",
    "(29,'DaniloGomes','danilo.gomes@exemplo.com',42,'AM'),\n",
    "\n",
    "(30,'BryanBarbosa','bryan.barbosa@exemplo.com',36,'ES'),\n",
    "\n",
    "(31,'MariaClaradaMota','maria.clara.da.mota@exemplo.com',31,'SP'),\n",
    "\n",
    "(32,'LeonardoGonçalves','leonardo.gonçalves@exemplo.com',49,'RJ'),\n",
    "\n",
    "(33,'CecíliaCaldeira','cecília.caldeira@exemplo.com',28,'AM'),\n",
    "\n",
    "(34,'LuizHenriqueAraújo','luiz.henrique.araújo@exemplo.com',32,'RJ'),\n",
    "\n",
    "(35,'LuigiRocha','luigi.rocha@exemplo.com',38,'ES'),\n",
    "\n",
    "(36,'AndréCarvalho','andré.carvalho@exemplo.com',18,'ES'),\n",
    "\n",
    "(37,'AnaJúliaCastro','ana.júlia.castro@exemplo.com',20,'RR'),\n",
    "\n",
    "(38,'AnaSophiaPereira','ana.sophia.pereira@exemplo.com',44,'RR'),\n",
    "\n",
    "(39,'MariaCecíliaNovaes','maria.cecília.novaes@exemplo.com',25,'ES'),\n",
    "\n",
    "(40,'DiegoCastro','diego.castro@exemplo.com',60,'ES'),\n",
    "\n",
    "(41,'PietraSilva','pietra.silva@exemplo.com',50,'AC'),\n",
    "\n",
    "(42,'AlexiaSantos','alexia.santos@exemplo.com',38,'RJ'),\n",
    "\n",
    "(43,'HelenaNogueira','helena.nogueira@exemplo.com',26,'SP'),\n",
    "\n",
    "(44,'SofiaFogaça','sofia.fogaça@exemplo.com',24,'AM'),\n",
    "\n",
    "(45,'JoãoVitorNascimento','joão.vitor.nascimento@exemplo.com',42,'RJ'),\n",
    "\n",
    "(46,'AnaBeatrizGomes','ana.beatriz.gomes@exemplo.com',26,'AM'),\n",
    "\n",
    "(47,'IsabellyPeixoto','isabelly.peixoto@exemplo.com',39,'RR'),\n",
    "\n",
    "(48,'DaviPires','davi.pires@exemplo.com',55,'AM'),\n",
    "\n",
    "(49,'TheoCavalcanti','theo.cavalcanti@exemplo.com',18,'MG'),\n",
    "\n",
    "(50,'MariaCecíliaMoura','maria.cecília.moura@exemplo.com',38,'SP')\n",
    "\n",
    "\n",
    "SELECT *\n",
    "FROM\n",
    "`t1engenhariadados.Grupo_10.Clientes2`\n"
   ]
  },
  {
   "cell_type": "markdown",
   "metadata": {
    "application/vnd.databricks.v1+cell": {
     "cellMetadata": {},
     "inputWidgets": {},
     "nuid": "747855c9-9d23-442e-8405-8f8d015789c1",
     "showTitle": false,
     "tableResultSettingsMap": {},
     "title": ""
    }
   },
   "source": [
    "##### Inserção de dados na tabela Produtos (sem duplicatas)\n"
   ]
  },
  {
   "cell_type": "code",
   "execution_count": 0,
   "metadata": {
    "application/vnd.databricks.v1+cell": {
     "cellMetadata": {},
     "collapsed": true,
     "inputWidgets": {},
     "nuid": "78e392ed-db89-4f58-a253-0f27a33cd92c",
     "showTitle": false,
     "tableResultSettingsMap": {},
     "title": ""
    }
   },
   "outputs": [],
   "source": [
    "\n",
    "SELECT *\n",
    "FROM `t1engenhariadados.Grupo_10.Produtos2` \n",
    "\n",
    "\n",
    "INSERT INTO `t1engenhariadados.Grupo_10.Produtos2` \n",
    "    (ID_Produto, Nome_Produto, Categoria_Produto, Preco_Produto)\n",
    "VALUES\n",
    "(950,'1984','Ficção',76.06),\n",
    "(298,'O Senhor dos Anéis','Não Ficção',25.52),\n",
    "(697,'Dom Quixote','Biografia',58.37),\n",
    "(771,'Cem Anos de Solidão','Ciência',47.02),\n",
    "(168,'O Nome do Vento','Tecnologia',85.93),\n",
    "(121,'Duna','História',38.74),\n",
    "(296,'Orgulho e Preconceito','Filosofia',45.4),\n",
    "(376,'A Revolução dos Bichos','Autoajuda',84.47),\n",
    "(548,'Sapiens: Uma Breve História da Humanidade','Ficção',81.05),\n",
    "(767,'Homo Deus','Não Ficção',58.93),\n",
    "(844,'Armas, Germes e Aço','Biografia',54.57),\n",
    "(559,'O Gene','Ciência',82.17),\n",
    "(716,'A Vida Imortal de Henrietta Lacks','Tecnologia',74.13),\n",
    "(525,'O Corpo','História',21.16),\n",
    "(799,'Steve Jobs','Filosofia',33.33),\n",
    "(829,'Leonardo da Vinci','Autoajuda',63.91),\n",
    "(319,'Minha História','Ficção',86.9),\n",
    "(149,'Long Walk to Freedom','Não Ficção',38.56),\n",
    "(381,'Einstein: His Life and Universe','Biografia',22.98),\n",
    "(743,'Churchill: A Life','Ciência',48.42),\n",
    "(107,'Uma Breve História do Tempo','Tecnologia',57.65),\n",
    "(434,'O Universo Numa Casca de Noz','História',29.63),\n",
    "(629,'Cosmos','Filosofia',42.3),\n",
    "(488,'A Estrutura das Revoluções Científicas','Autoajuda',83.8),\n",
    "(999,'Astrofísica para Apressados','Ficção',67.26),\n",
    "(556,'Clean Code','Não Ficção',70.92),\n",
    "(124,'The Pragmatic Programmer','Biografia',29.43),\n",
    "(543,'Artificial Intelligence: A Modern Approach','Ciência',50.4),\n",
    "(716,'Design Patterns','Tecnologia',25.14),\n",
    "(778,'Introduction to Algorithms','História',86.28),\n",
    "(188,'Guns, Germs, and Steel','Filosofia',35.66),\n",
    "(701,'The Silk Roads','Autoajuda',54.63),\n",
    "(754,'A People’s History of the United States','Ficção',59.57),\n",
    "(514,'Postwar: A History of Europe Since 1945','Não Ficção',51.61),\n",
    "(311,'The Wright Brothers','Biografia',77.71),\n",
    "(499,'A República','Ciência',87.39),\n",
    "(434,'Crítica da Razão Pura','Tecnologia',25.98),\n",
    "(595,'Além do Bem e do Mal','História',37.14),\n",
    "(714,'Meditações','Filosofia',42.73),\n",
    "(714,'O Ser e o Nada','Autoajuda',24.55),\n",
    "(934,'O Poder do Hábito','Ficção',48.3),\n",
    "(275,'Os 7 Hábitos das Pessoas Altamente Eficazes','Não Ficção',40.81),\n",
    "(823,'Como Fazer Amigos e Influenciar Pessoas','Biografia',23.46),\n",
    "(624,'Mindset','Ciência',54.24),\n",
    "(995,'A Sutil Arte de Ligar o F*da-se','Tecnologia',61.02);"
   ]
  },
  {
   "cell_type": "code",
   "execution_count": 0,
   "metadata": {
    "application/vnd.databricks.v1+cell": {
     "cellMetadata": {},
     "inputWidgets": {},
     "nuid": "85c8b73a-1029-473b-aa9c-0e964f236a03",
     "showTitle": false,
     "tableResultSettingsMap": {},
     "title": ""
    }
   },
   "outputs": [],
   "source": []
  },
  {
   "cell_type": "markdown",
   "metadata": {
    "application/vnd.databricks.v1+cell": {
     "cellMetadata": {},
     "inputWidgets": {},
     "nuid": "afa6aa56-0c16-4e82-a35d-8b74d66ccaad",
     "showTitle": false,
     "tableResultSettingsMap": {},
     "title": ""
    }
   },
   "source": [
    "#### Inserção de dados na tabela Vendas"
   ]
  },
  {
   "cell_type": "code",
   "execution_count": 0,
   "metadata": {
    "application/vnd.databricks.v1+cell": {
     "cellMetadata": {},
     "collapsed": true,
     "inputWidgets": {},
     "nuid": "ec6edd2d-5c2f-42ff-8c89-eb00cb80126d",
     "showTitle": false,
     "tableResultSettingsMap": {},
     "title": ""
    }
   },
   "outputs": [],
   "source": [
    "\n",
    "INSERT INTO `t1engenhariadados.Grupo_10.Vendas2` \n",
    "  (ID_Venda, ID_Cliente, ID_Produto, Data_Venda, Quantidade)\n",
    "VALUES\n",
    "(9979,22,121,'2023-07-28',1),\n",
    "(7823,24,767,'2024-03-19',5),\n",
    "(9393,28,548,'2023-10-05',1),\n",
    "(5224,34,381,'2023-05-13',5),\n",
    "(8199,15,381,'2023-03-06',1),\n",
    "(7983,14,999,'2023-02-12',5),\n",
    "(7480,1,298,'2024-12-17',5),\n",
    "(3496,28,697,'2023-05-20',3),\n",
    "(9321,9,559,'2023-11-07',5),\n",
    "(7797,31,296,'2024-02-08',2),\n",
    "(1090,26,716,'2023-08-04',3),\n",
    "(7374,3,548,'2023-08-08',2),\n",
    "(6894,28,829,'2023-03-21',1),\n",
    "(3156,9,754,'2023-08-22',2),\n",
    "(6716,6,311,'2024-10-12',2),\n",
    "(3986,50,629,'2023-02-24',1),\n",
    "(5171,2,188,'2023-05-18',1),\n",
    "(2562,47,376,'2024-09-09',5),\n",
    "(2443,21,298,'2023-10-13',5),\n",
    "(1755,48,934,'2023-09-26',2),\n",
    "(1300,33,275,'2024-02-17',2),\n",
    "(4043,33,771,'2024-05-18',10),\n",
    "(4880,14,556,'2024-03-08',1),\n",
    "(2034,27,701,'2023-12-01',2),\n",
    "(2105,44,275,'2024-10-27',2),\n",
    "(8006,20,823,'2024-09-16',1),\n",
    "(1356,28,771,'2024-04-20',1),\n",
    "(5603,32,543,'2024-10-10',2),\n",
    "(3160,20,514,'2024-02-26',2),\n",
    "(2834,14,716,'2023-07-25',3),\n",
    "(8691,48,754,'2024-04-24',5),\n",
    "(1952,10,629,'2024-05-05',1),\n",
    "(5090,29,743,'2023-05-08',3),\n",
    "(6818,33,829,'2023-06-18',1),\n",
    "(9827,34,823,'2023-02-28',3),\n",
    "(3142,23,124,'2024-04-28',3),\n",
    "(7183,33,934,'2024-02-15',1),\n",
    "(1283,25,514,'2023-07-23',2),\n",
    "(5893,38,714,'2023-07-05',10),\n",
    "(4817,10,311,'2023-12-02',2),\n",
    "(3133,46,716,'2023-05-05',5),\n",
    "(2821,28,629,'2023-03-11',2),\n",
    "(7148,46,714,'2024-09-10',3),\n",
    "(5913,27,778,'2024-02-13',1),\n",
    "(7050,26,778,'2023-01-01',2),\n",
    "(3701,29,543,'2023-03-27',5),\n",
    "(3682,23,950,'2024-04-21',10),\n",
    "(8797,36,999,'2023-10-26',2),\n",
    "(5377,4,697,'2023-02-06',2),\n",
    "(4201,32,556,'2023-04-06',1)\n",
    ";"
   ]
  },
  {
   "cell_type": "markdown",
   "metadata": {
    "application/vnd.databricks.v1+cell": {
     "cellMetadata": {},
     "inputWidgets": {},
     "nuid": "ccdaca2f-4de8-4964-bcdc-55b5fcaafbca",
     "showTitle": false,
     "tableResultSettingsMap": {},
     "title": ""
    }
   },
   "source": [
    "### 3. Analisar os Dados\n",
    "Escrever consultas SQL para responder a perguntas de negócio."
   ]
  },
  {
   "cell_type": "markdown",
   "metadata": {
    "application/vnd.databricks.v1+cell": {
     "cellMetadata": {},
     "inputWidgets": {},
     "nuid": "62b0bddc-d2c0-4009-93a6-a95fdaa8a450",
     "showTitle": false,
     "tableResultSettingsMap": {},
     "title": ""
    }
   },
   "source": [
    "Perguntas para serem respondidas com as consultas:\n",
    "\n",
    "            1. Rankear vendas por categorias para o exercicio de 2024, identificar a categoria mais vendida. \n",
    "                     \n",
    "            2. Identificar o Estado com maior e menor numero de vendas no ano de 2024.\n",
    "\n",
    "            3. Título de maior interesse pelos clientes no ultimo ano em SP;\n",
    "\n",
    "            4. Idade média dos clientes por categoria.\n",
    "\n",
    "            5. Quais produtos tiveram baixa saída (poucas vendas) e quais tiveram alta saída;\n",
    "\n",
    "            6. ticket medio de compra por cliente;\n",
    "\n",
    "            7. Exibir apenas os titulos de uma categoria;\n",
    "\n",
    "            8. recorrencia de compra dos cliente, mostrar prduto e categoria de recorrencia;"
   ]
  },
  {
   "cell_type": "markdown",
   "metadata": {
    "application/vnd.databricks.v1+cell": {
     "cellMetadata": {},
     "inputWidgets": {},
     "nuid": "773d5aab-e961-4680-9444-f95d83cc2663",
     "showTitle": false,
     "tableResultSettingsMap": {},
     "title": ""
    }
   },
   "source": [
    "##### 1. Rankear vendas por categorias para o exercico de 2024, identificar a categoria mais vendida.\n",
    "\n"
   ]
  },
  {
   "cell_type": "markdown",
   "metadata": {
    "application/vnd.databricks.v1+cell": {
     "cellMetadata": {},
     "inputWidgets": {},
     "nuid": "a5703693-d900-4269-8a30-a3ae805fbd8f",
     "showTitle": false,
     "tableResultSettingsMap": {},
     "title": ""
    }
   },
   "source": [
    "Para isso, é necessario agrupar as categorias utilizano o metodo `DISTINCT` e filtrar utilizando o `WHERE `pelo ano de 2024. Como a data esta em formato DATE, será necessario alterar o tipo para string para que seja filtrado apenas o ano de 2024."
   ]
  },
  {
   "cell_type": "code",
   "execution_count": 0,
   "metadata": {
    "application/vnd.databricks.v1+cell": {
     "cellMetadata": {},
     "inputWidgets": {},
     "nuid": "8f0c9fcc-c81d-4ea9-b8d3-b8988defe1b3",
     "showTitle": false,
     "tableResultSettingsMap": {},
     "title": ""
    }
   },
   "outputs": [],
   "source": [
    "SELECT \n",
    "  DISTINCT \n",
    "  Categoria_Produto,\n",
    "  SUM(Total_Compra) AS Vendas_Categoria\n",
    "          \n",
    "FROM \n",
    "  `t1engenhariadados.Grupo_10.vw_relatorioLivraria`\n",
    "\n",
    "-- transformando o formato data para string\n",
    "\n",
    "WHERE\n",
    "  EXTRACT(YEAR\n",
    "  FROM\n",
    "    Data_Venda) = 2024\n",
    "\n",
    "GROUP BY  \n",
    "  Categoria_Produto\n",
    "\n",
    "ORDER BY \n",
    "  Vendas_Categoria DESC;\n"
   ]
  },
  {
   "cell_type": "markdown",
   "metadata": {
    "application/vnd.databricks.v1+cell": {
     "cellMetadata": {},
     "inputWidgets": {},
     "nuid": "cbf2d9bf-e80a-4c36-a2bb-d5219f165a34",
     "showTitle": false,
     "tableResultSettingsMap": {},
     "title": ""
    }
   },
   "source": [
    "> RESPOSTA\n",
    "\n",
    "**CATEGORIA MAIS VENDIDA: **Ficção com 1106.75 vendas realizadas no ano de 2024.****\n",
    "\n",
    " **RANKING DE VENDAS POR CATEGORIAS:**\n",
    "\n",
    "        1\tFicção\t1106.75\n",
    "        2\tNão Ficção\t759.63\n",
    "        3\tCiência\t618.02\n",
    "        4\tAutoajuda\t496\n",
    "        5\tBiografia\t267.17\n",
    "        6\tFilosofia\t261.29\n",
    "        7\tHistória\t86.28"
   ]
  },
  {
   "cell_type": "markdown",
   "metadata": {
    "application/vnd.databricks.v1+cell": {
     "cellMetadata": {},
     "inputWidgets": {},
     "nuid": "d9c68d29-f591-4867-96aa-03a1e21f1597",
     "showTitle": false,
     "tableResultSettingsMap": {},
     "title": ""
    }
   },
   "source": [
    "#####2. Identificar o Estado com maior e menor numero de vendas no ano de 2024.\n",
    "\n",
    "\n"
   ]
  },
  {
   "cell_type": "code",
   "execution_count": 0,
   "metadata": {
    "application/vnd.databricks.v1+cell": {
     "cellMetadata": {},
     "inputWidgets": {},
     "nuid": "184dd57a-5642-4ef8-b006-91f7a6fdc8bc",
     "showTitle": false,
     "tableResultSettingsMap": {},
     "title": ""
    }
   },
   "outputs": [],
   "source": [
    "SELECT DISTINCT \n",
    "    Estado_Cliente, \n",
    "  SUM(Total_Compra) AS Vendas_Estado   -- agrupa os estados e soma os valores de vendas de cada registro\n",
    "FROM \n",
    "  `t1engenhariadados.Grupo_10.vw_relatorioLivraria`\n",
    "\n",
    "WHERE\n",
    "  EXTRACT (YEAR \n",
    "  FROM\n",
    "    Data_Venda) = 2024\n",
    "\n",
    "GROUP BY  \n",
    "  Estado_Cliente\n",
    "    \n",
    "ORDER BY \n",
    "  Vendas_Estado DESC;"
   ]
  },
  {
   "cell_type": "markdown",
   "metadata": {
    "application/vnd.databricks.v1+cell": {
     "cellMetadata": {},
     "inputWidgets": {},
     "nuid": "5a8e9056-9de8-44dc-93b4-629a7a56ff38",
     "showTitle": false,
     "tableResultSettingsMap": {},
     "title": ""
    }
   },
   "source": [
    "\n",
    "> RESPOSTA\n",
    "\n",
    "**estado com maior numero de vendas :   **RR 1313.54****\n",
    "\n",
    "   **RANKING DE VENDAS:**\n",
    "\n",
    "\n",
    "      1\tRR\t1313.54\n",
    "\n",
    "      2\tAM\t1267.71\n",
    "      \n",
    "      3\tRJ\t510.5\n",
    "      \n",
    "      4\tAL\t294.65\n",
    "      \n",
    "      5\tSP\t90.8\n",
    "      \n",
    "      6\tES\t70.92\n",
    "      \n",
    "      7\tMG\t47.02"
   ]
  },
  {
   "cell_type": "markdown",
   "metadata": {
    "application/vnd.databricks.v1+cell": {
     "cellMetadata": {},
     "inputWidgets": {},
     "nuid": "d0ddb4e3-0117-4bb0-8e2e-81e9b64a0d03",
     "showTitle": false,
     "tableResultSettingsMap": {},
     "title": ""
    }
   },
   "source": [
    "##### 3. Título de maior interesse pelos clientes no estado de RR no ano de 2023."
   ]
  },
  {
   "cell_type": "code",
   "execution_count": 0,
   "metadata": {
    "application/vnd.databricks.v1+cell": {
     "cellMetadata": {},
     "inputWidgets": {},
     "nuid": "a98c220a-329c-4b25-aede-86e16e122372",
     "showTitle": false,
     "tableResultSettingsMap": {},
     "title": ""
    }
   },
   "outputs": [],
   "source": [
    " -- 3. Título de maior interesse pelos clientes no estado de RR no ano de 2023\n",
    "SELECT DISTINCT\n",
    "      Nome_Produto, \n",
    "      SUM(Quantidade) AS Quantidade_Vendida,\n",
    "      Categoria_Produto,\n",
    "      Estado_Cliente\n",
    "      \n",
    "FROM \n",
    "  `t1engenhariadados.Grupo_10.vw_relatorioLivraria`\n",
    "\n",
    "WHERE\n",
    "  EXTRACT(YEAR FROM Data_Venda) = 2023\n",
    "  AND Estado_Cliente = \"SP\"\n",
    "\n",
    "GROUP BY \n",
    "  Nome_Produto, \n",
    "  Categoria_Produto, \n",
    "  Estado_Cliente\n",
    "\n",
    "ORDER BY Categoria_Produto DESC;\n",
    "\n",
    "\n"
   ]
  },
  {
   "cell_type": "markdown",
   "metadata": {
    "application/vnd.databricks.v1+cell": {
     "cellMetadata": {},
     "inputWidgets": {},
     "nuid": "d53067f2-e379-426d-b1de-1f48ea177be3",
     "showTitle": false,
     "tableResultSettingsMap": {},
     "title": ""
    }
   },
   "source": [
    "> RESPOSTA\n",
    "\n",
    "\n"
   ]
  },
  {
   "cell_type": "markdown",
   "metadata": {
    "application/vnd.databricks.v1+cell": {
     "cellMetadata": {},
     "inputWidgets": {},
     "nuid": "f91cb6b1-48ea-48e5-97a0-86ef3664d4d0",
     "showTitle": false,
     "tableResultSettingsMap": {},
     "title": ""
    }
   },
   "source": [
    "##### 4. Idade média dos clientes por categoria"
   ]
  },
  {
   "cell_type": "code",
   "execution_count": 0,
   "metadata": {
    "application/vnd.databricks.v1+cell": {
     "cellMetadata": {},
     "inputWidgets": {},
     "nuid": "a991e271-0e54-45b2-9775-1aaa9af30ed7",
     "showTitle": false,
     "tableResultSettingsMap": {},
     "title": ""
    }
   },
   "outputs": [],
   "source": [
    "-- idade média dos clientes por categoria\n",
    "\n",
    "SELECT \n",
    "    p.Categoria_Produto,\n",
    "    ROUND(AVG(c.Idade_Cliente), 0) AS Idade_Media,  -- ROUND() arredonda as casas decimais da media de idade\n",
    "    COUNT(DISTINCT c.Idade_Cliente) AS Quantidade_Clientes,\n",
    "   \n",
    "  \n",
    "FROM `t1engenhariadados.Grupo_10.Vendas2` v\n",
    "\n",
    "JOIN `t1engenhariadados.Grupo_10.Clientes2`  c\n",
    "  ON v.ID_Cliente = c.ID_Cliente \n",
    "\n",
    "JOIN `t1engenhariadados.Grupo_10.Produtos2`  p\n",
    "  ON v.ID_Produto = p.ID_Produto\n",
    "\n",
    "GROUP BY \n",
    "    p.Categoria_Produto     \n",
    "ORDER BY \n",
    "      Idade_Media DESC;\n",
    "\n",
    "\n",
    "\n",
    "\n",
    "\n",
    "\n",
    "\n"
   ]
  },
  {
   "cell_type": "markdown",
   "metadata": {
    "application/vnd.databricks.v1+cell": {
     "cellMetadata": {},
     "inputWidgets": {},
     "nuid": "c59e2462-c7eb-44a9-a3f6-a16e092d9e64",
     "showTitle": false,
     "tableResultSettingsMap": {},
     "title": ""
    }
   },
   "source": []
  },
  {
   "cell_type": "markdown",
   "metadata": {
    "application/vnd.databricks.v1+cell": {
     "cellMetadata": {},
     "inputWidgets": {},
     "nuid": "9664402b-2415-4c5f-ba5b-f1faea8ab112",
     "showTitle": false,
     "tableResultSettingsMap": {},
     "title": ""
    }
   },
   "source": [
    "\n",
    "##### 5. Quais produtos tiveram alta saída;\n"
   ]
  },
  {
   "cell_type": "code",
   "execution_count": 0,
   "metadata": {
    "application/vnd.databricks.v1+cell": {
     "cellMetadata": {},
     "inputWidgets": {},
     "nuid": "6b24bb68-2edb-4e32-93f0-d14febc3f186",
     "showTitle": false,
     "tableResultSettingsMap": {},
     "title": ""
    }
   },
   "outputs": [],
   "source": [
    "SELECT DISTINCT\n",
    "      Nome_Produto, \n",
    "      Nome_Cliente,\n",
    "      Categoria_Produto,            \n",
    "      SUM(Quantidade) AS Quantidade_Vendida,\n",
    "      \n",
    "      \n",
    "FROM \n",
    "  `t1engenhariadados.Grupo_10.vw_relatorioLivraria`\n",
    "\n",
    "\n",
    "GROUP BY \n",
    "  Nome_Cliente,\n",
    "  Nome_Produto, \n",
    "  Categoria_Produto\n",
    "  \n",
    "ORDER BY Quantidade_Vendida DESC;"
   ]
  },
  {
   "cell_type": "markdown",
   "metadata": {
    "application/vnd.databricks.v1+cell": {
     "cellMetadata": {},
     "inputWidgets": {},
     "nuid": "f694dacc-d86f-4baa-a2a3-6595f3bb25fc",
     "showTitle": false,
     "tableResultSettingsMap": {},
     "title": ""
    }
   },
   "source": [
    "##### 6. Valor do ticket medio de compra por cliente. "
   ]
  },
  {
   "cell_type": "code",
   "execution_count": 0,
   "metadata": {
    "application/vnd.databricks.v1+cell": {
     "cellMetadata": {},
     "inputWidgets": {},
     "nuid": "978e4838-3e97-4349-98d1-46da7f21cf52",
     "showTitle": false,
     "tableResultSettingsMap": {},
     "title": ""
    }
   },
   "outputs": [],
   "source": [
    "-- 6. Valor do ticket medio de compra por cliente.\n",
    "\n",
    "SELECT \n",
    "    c.ID_Cliente,\n",
    "    c.Nome_Cliente,\n",
    "    ROUND(SUM(v.Quantidade * p.Preco_Produto) /   -- soma a quantidade de produtos vendidos * o preco do produto\n",
    "    COUNT(DISTINCT v.ID_Venda), 2) AS Ticket_Medio --  traz a quantidade de linhas no numero de vendas \n",
    "\n",
    "FROM\n",
    "   `t1engenhariadados.Grupo_10.Vendas2` v\n",
    "\n",
    "JOIN \n",
    "  `t1engenhariadados.Grupo_10.Clientes2`  c\n",
    "    ON v.ID_Cliente = c.ID_Cliente  -- ROUND() arredonda as casas decimais da media de idade\n",
    "   \n",
    "JOIN \n",
    "  `t1engenhariadados.Grupo_10.Produtos2`  p\n",
    "    ON v.ID_Produto = p.ID_Produto\n",
    "\n",
    "GROUP BY \n",
    "    c.ID_Cliente,\n",
    "    c.Nome_Cliente    \n",
    "\n",
    "ORDER BY \n",
    "      Ticket_Medio DESC;"
   ]
  },
  {
   "cell_type": "markdown",
   "metadata": {
    "application/vnd.databricks.v1+cell": {
     "cellMetadata": {},
     "inputWidgets": {},
     "nuid": "b3bd27c5-089a-4789-88cc-0731cd7af855",
     "showTitle": false,
     "tableResultSettingsMap": {},
     "title": ""
    }
   },
   "source": []
  },
  {
   "cell_type": "markdown",
   "metadata": {
    "application/vnd.databricks.v1+cell": {
     "cellMetadata": {},
     "inputWidgets": {},
     "nuid": "16b5c7ea-011c-4a57-9629-e85382047c17",
     "showTitle": false,
     "tableResultSettingsMap": {},
     "title": ""
    }
   },
   "source": [
    "##### 7. Exibir apenas os titulos de uma categoria"
   ]
  },
  {
   "cell_type": "code",
   "execution_count": 0,
   "metadata": {
    "application/vnd.databricks.v1+cell": {
     "cellMetadata": {},
     "inputWidgets": {},
     "nuid": "0a4ba11a-23cc-43df-9e31-5e5375ff1ce3",
     "showTitle": false,
     "tableResultSettingsMap": {},
     "title": ""
    }
   },
   "outputs": [],
   "source": [
    "-- 7. Exibir apenas os titulos correspondentes a uma categoria\n",
    "\n",
    "SELECT *\n",
    "FROM t1engenhariadados.Grupo_10.Produtos2\n",
    "WHERE Categoria_Produto = 'Filosofia'"
   ]
  },
  {
   "cell_type": "markdown",
   "metadata": {
    "application/vnd.databricks.v1+cell": {
     "cellMetadata": {},
     "inputWidgets": {},
     "nuid": "c32af72f-577f-4ffe-8b67-d8613ee1f2a2",
     "showTitle": false,
     "tableResultSettingsMap": {},
     "title": ""
    }
   },
   "source": []
  },
  {
   "cell_type": "markdown",
   "metadata": {
    "application/vnd.databricks.v1+cell": {
     "cellMetadata": {},
     "inputWidgets": {},
     "nuid": "36c2348c-b5c7-4111-a261-d168d8944596",
     "showTitle": false,
     "tableResultSettingsMap": {},
     "title": ""
    }
   },
   "source": [
    "### 4. Criar uma View\n",
    "Construir uma VIEW para simplificar análises futuras."
   ]
  },
  {
   "cell_type": "markdown",
   "metadata": {
    "application/vnd.databricks.v1+cell": {
     "cellMetadata": {},
     "inputWidgets": {},
     "nuid": "671d4004-a9ae-4bf3-9fc3-20fd8ed379a1",
     "showTitle": false,
     "tableResultSettingsMap": {},
     "title": ""
    }
   },
   "source": [
    "    VIEW criada para visualizar as vendas do estado de RR."
   ]
  },
  {
   "cell_type": "code",
   "execution_count": 0,
   "metadata": {
    "application/vnd.databricks.v1+cell": {
     "cellMetadata": {},
     "inputWidgets": {},
     "nuid": "bf520436-bfe8-40f2-98b5-0b4891f07dda",
     "showTitle": false,
     "tableResultSettingsMap": {},
     "title": ""
    }
   },
   "outputs": [],
   "source": [
    "CREATE OR REPLACE VIEW `t1engenhariadados.Grupo_10.vw_relatorioLivraria` as\n",
    "\n",
    "-- view para consulta de vendas no estado de RR\n",
    "\n",
    "SELECT\n",
    "    C.Nome_Cliente, \n",
    "    C.Estado_Cliente,\n",
    "    V.ID_Venda,\n",
    "    P.Nome_Produto,\n",
    "    P.Categoria_Produto,\n",
    "    P.Preco_Produto,\n",
    "    V.Quantidade,   \n",
    "    V.Data_Venda,\n",
    "    (P.Preco_Produto * V.Quantidade) AS Total_Compra -- calcula o valor total da compra \n",
    "    \n",
    "FROM \n",
    "  `t1engenhariadados.Grupo_10.Vendas2` AS V    -- Seleciona a tabela procipal \n",
    "\n",
    "JOIN `t1engenhariadados.Grupo_10.Clientes2` AS C  -- junta as vendas ao cadastro do cliente\n",
    "  ON V.ID_Cliente = C.ID_Cliente\n",
    "  \n",
    "JOIN `t1engenhariadados.Grupo_10.Produtos2` AS P -- junta as vendas ao cadastro do produto\n",
    "  ON V.ID_Produto = P.ID_Produto\n",
    "\n",
    "WHERE \n",
    "  C.Estado_Cliente = 'RR'\n",
    "ORDER BY \n",
    "  V.Data_Venda;\n",
    "\n",
    "-- VISUALIZAÇÃO TABULAR DA VIEW\n",
    "Select *\n",
    "FROM\n",
    " `t1engenhariadados.Grupo_10.vw_relatorioLivraria`"
   ]
  },
  {
   "cell_type": "markdown",
   "metadata": {
    "application/vnd.databricks.v1+cell": {
     "cellMetadata": {},
     "inputWidgets": {},
     "nuid": "8e99a707-e36f-4d2d-838b-610266c27ed1",
     "showTitle": false,
     "tableResultSettingsMap": {},
     "title": ""
    }
   },
   "source": []
  },
  {
   "cell_type": "markdown",
   "metadata": {
    "application/vnd.databricks.v1+cell": {
     "cellMetadata": {},
     "inputWidgets": {},
     "nuid": "107c62fa-bf2f-4770-8265-90ea45b78eb0",
     "showTitle": false,
     "tableResultSettingsMap": {},
     "title": ""
    }
   },
   "source": [
    "# 2. Sugestão de README \n"
   ]
  },
  {
   "cell_type": "markdown",
   "metadata": {
    "application/vnd.databricks.v1+cell": {
     "cellMetadata": {},
     "inputWidgets": {},
     "nuid": "2eb0dae4-c7e9-4e4f-8ade-c5c9deae2c3f",
     "showTitle": false,
     "tableResultSettingsMap": {},
     "title": ""
    }
   },
   "source": [
    "%md\n",
    "#  Introdução\n",
    "\n",
    "No contexto para o mini projeto de de pipeline de dados em SQL, vamos trabalhar com a  livraria DevSaber é uma loja de vendas online onde atualmente os dados como vendas, produtos e de todos os clientes estao armazenados em planilhas distintas. Sabemos que planilhas sao uteis para pequenos volumes de dados, como a livraria tem aumentado o seu volume de vendas, agora precisar cuidar desses dados de maneira mais eficiente e ordenada. \n",
    "\n",
    "### Objetivo\n",
    "\n",
    "O projeto tem como objetivo transformar as planilhas de dados da Livraria DevSaber num _mini data warehouse_ inteligente no BigQuery. \n",
    "Criaremos um todo o pipeline de dados: estrututura, carregamento, e analise de algumas questões de negócio da livraria.\n",
    "\n",
    "\n",
    "> \uD83C\uDFAF Objetivo de aprendizagem\n",
    "\n",
    "Ao final desse projeto sabere estruturar um schema, realizar a ingetsçao de dados, construir consultas SQL analiticas, desenvolver uma view e muito mais. \n",
    "\n",
    "\n",
    "> \uD83D\uDCCA Base de Dados\n",
    "\n",
    "\n",
    "Os dados utilizados nessa análise foram abtidos das planilhas ficticias da livraria:\n",
    "https://console.cloud.google.com/bigquery?ws=!1m4!1m3!3m2!1st1engenhariadados!2sGrupo_10\n",
    "\n",
    "No dataset contem informações  sobre compras realizadas na livraria contendo data, quantidade, categorias de livros, linhas de produtos e informações de clientes.\n",
    "\n",
    "\n",
    "> \uD83D\uDEE0️ Ferramentas \n",
    "\n",
    "Para o projeto foi utiliazado o BigQuery para desenvolver e estruturar os dados disponibilizados para as consultas. \n",
    "\n",
    "> \uD83D\uDD2C Análise Realizada\n",
    "\n",
    "**(INSERIR INFORMAÇÕES SOBRE PERGUNTAS ELABORADAS PARA AS CONSULTAS)**\n",
    "\n",
    "**\uD83D\uDCA1Contexto**\n",
    "\n",
    "A livraria precisava utilizar os dados gerados atarves das vendas, produtos e clientes para levantar questões de sobre a segmentação de produtos, perfil de clientes, e principlamente porque agora precisava tomar decisões estrategicas para continuar o crescimento do negócio, totalmente baseado em numeros(dados).\n",
    "\n",
    "Essas foram algumas perguntas feitas sobre o negocio e foram respondidas como os dados da consulta realizada: \n",
    "\n",
    "        1. Rankear vendas por categorias para o exercico de 2024, identificar a categoria mais vendida. \n",
    "                 \n",
    "        2. Identificar o Estado com maior e menor numero de vendas no ano de 2024.\n",
    "\n",
    "        3. Título de maior interesse pelos clientes no ultimo ano em SP;\n",
    "\n",
    "        4. Idade média dos clientes por categoria.\n",
    "\n",
    "        5. Quais produtos tiveram baixa saída (poucas vendas) e quais tiveram alta saída;\n",
    "\n",
    "        6. ticket medio de compra por cliente;\n",
    "\n",
    "        7. Exibir apenas os titulos de uma categoria;\n",
    "\n",
    "        8. recorrencia de compra dos cliente, mostrar prduto e categoria de recorrencia;\n",
    "\n",
    "\n",
    "\n",
    "Alem disso, alguns questionamentos foram importantes para sintetizar o conteúdo e maximizar a capacidade de aprendizado do grupo. Por isso, vamos responder algumas perguntas: \n",
    "\n",
    "### *Perguntas para a turma*\n",
    "\n",
    "\n",
    "\n",
    "1. _Por que uma planilha não é ideal para uma empresa que quer analisar suas vendas a fundo?_\n",
    "\n",
    "    resposta:\n",
    "\n",
    "            Planilhas sao limitadas quando se tratam de analise do dados. Sua limitação ao conectar e organizar dados com varias tabelas dificulta a automação de consultas, a integração com ferramentas de analise de dados e a outros sistemas se tornam ineficazes. Um ponto de atenção é a segurança das planilhas, a qualquer momento podem sofrer alterações erroenas e inesperadas, aumentando o indice de erro e ineficiencia dos dados.\n",
    "\n",
    "\n",
    "2.  _Que tipo de perguntas vocês acham que o dono da livraria gostaria de responder com esses dados?_\n",
    "\n",
    "      resposta: (Sugestão: INSERIR INFORMAÇÕES SOBRE PERGUNTAS ELABORADAS PARA AS CONSULTAS)\n",
    "\n",
    "            1. Rankear vendas por categorias em cada trimestre do ultimo exercicio para os resultados em cada estado;            \n",
    "\n",
    "            2. Identificar periodo de menor e maior numero de vendas por estado em cada trimestre:\n",
    "\n",
    "            3. Título de maior interesse pelos clientes no ultimo ano;\n",
    "\n",
    "            4. Quantidade de vendas semanal. (view)\n",
    "\n",
    "       \n",
    "\n",
    "3. _Com base nos dados brutos, quais outras duas tabelas precisamos criar? Que colunas e tipos de dados elas teriam?_\n",
    "\n",
    "      resposta:\n",
    "\n",
    "4. _Se o BigQuery não tem chaves estrangeiras, como garantimos que um ID_Cliente na tabela de vendas realmente existe na tabela de clientes? (Resposta: A responsabilidade é nossa, na hora de construir a consulta com o JOIN)._\n",
    "\n",
    "      resposta:\n",
    "\n",
    "\n",
    "\n",
    "5. _Por que é uma boa prática inserir os clientes e produtos em suas próprias tabelas antes de inserir os dados de vendas?_\n",
    "\n",
    "      resposta: \n",
    "      \n",
    "            A tabela Clientes e Produtos sao tabelas que contem as chamadas _primary keys_ que podem ser os pontos de partida para as conexões de relacionamento entre as demais tabelas, principalmente para a tabela de vendas, onde contem as _foreign keys_, onde a chave de identificação de vendas carrega tbm as chaves de produtos e clientes. Sendo assim, a ordem de criação da tabela deve seguir uma ordem logica para que haja nexo na tabela de vendas.\n",
    "\n",
    "\n",
    "6. _Em um cenário com milhões de vendas por dia, o `INSERT INTO` seria a melhor abordagem?_\n",
    "\n",
    "      resposta:\n",
    "\n",
    "            Pode ser que nao seja a melhor opção. Para o uso de grandes volumes de dados, é indicado que seja realizada a conexão com servidores de dados.\n",
    "\n",
    "\n",
    "7. _Qual é a principal vantagem de usar uma `VIEW` em vez de simplesmente salvar o código em um arquivo de texto?_\n",
    "\n",
    "      resposta: \n",
    "              \n",
    "            Uma view economiza nos dados processados. \n",
    "\n",
    "\n",
    "8. _Se o preço de um produto mudar na tabela `Produtos`, o `Valor_Total` na `VIEW` será atualizado automaticamente na próxima vez que a consultarmos?_\n",
    "\n",
    "\n",
    "     resposta: \n",
    "\n",
    "            Sim. Os dados de uma view nao serao armazenados. Apenas a consulta. Entao, sempre que for execultada a consulta (view) salva, os dados serao carregados conforme atualização no banco de dados.\n",
    "\n"
   ]
  },
  {
   "cell_type": "markdown",
   "metadata": {
    "application/vnd.databricks.v1+cell": {
     "cellMetadata": {},
     "inputWidgets": {},
     "nuid": "a192b409-b79d-47ca-835b-5d74ed8b90d8",
     "showTitle": false,
     "tableResultSettingsMap": {},
     "title": ""
    }
   },
   "source": []
  }
 ],
 "metadata": {
  "application/vnd.databricks.v1+notebook": {
   "computePreferences": {
    "hardware": {
     "accelerator": null,
     "gpuPoolId": null,
     "memory": null
    }
   },
   "dashboards": [],
   "environmentMetadata": {
    "base_environment": "",
    "environment_version": "3"
   },
   "inputWidgetPreferences": null,
   "language": "sql",
   "notebookMetadata": {
    "pythonIndentUnit": 4
   },
   "notebookName": "[Mini Projeto] Pipeline de Dados e Análise com SQL",
   "widgets": {}
  },
  "language_info": {
   "name": "sql"
  }
 },
 "nbformat": 4,
 "nbformat_minor": 0
}